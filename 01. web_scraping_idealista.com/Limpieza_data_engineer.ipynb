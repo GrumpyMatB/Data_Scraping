{
 "cells": [
  {
   "cell_type": "markdown",
   "metadata": {},
   "source": [
    "# Librerías"
   ]
  },
  {
   "cell_type": "code",
   "execution_count": 112,
   "metadata": {},
   "outputs": [],
   "source": [
    "import pandas as pd\n",
    "import numpy as np\n",
    "from ast import literal_eval  # Para convertir str a una lista organizada\n",
    "import re"
   ]
  },
  {
   "cell_type": "markdown",
   "metadata": {},
   "source": [
    "# Lectura de base de datos"
   ]
  },
  {
   "cell_type": "code",
   "execution_count": 160,
   "metadata": {},
   "outputs": [
    {
     "data": {
      "text/html": [
       "<div>\n",
       "<style scoped>\n",
       "    .dataframe tbody tr th:only-of-type {\n",
       "        vertical-align: middle;\n",
       "    }\n",
       "\n",
       "    .dataframe tbody tr th {\n",
       "        vertical-align: top;\n",
       "    }\n",
       "\n",
       "    .dataframe thead th {\n",
       "        text-align: right;\n",
       "    }\n",
       "</style>\n",
       "<table border=\"1\" class=\"dataframe\">\n",
       "  <thead>\n",
       "    <tr style=\"text-align: right;\">\n",
       "      <th></th>\n",
       "      <th>Titulo</th>\n",
       "      <th>Localización</th>\n",
       "      <th>precio</th>\n",
       "      <th>caracteristicas básicas</th>\n",
       "      <th>Equipamento</th>\n",
       "    </tr>\n",
       "  </thead>\n",
       "  <tbody>\n",
       "    <tr>\n",
       "      <th>0</th>\n",
       "      <td>Chalet pareado en venta en Josep Albages</td>\n",
       "      <td>Sant Llorenç Savall</td>\n",
       "      <td>269000</td>\n",
       "      <td>['Chalet pareado', '3 plantas', '254 m² constr...</td>\n",
       "      <td>['Jardín', 'Consumo: \\n174 kWh/m² año', 'Emisi...</td>\n",
       "    </tr>\n",
       "    <tr>\n",
       "      <th>1</th>\n",
       "      <td>Chalet pareado en venta en Josep Albages</td>\n",
       "      <td>Sant Llorenç Savall</td>\n",
       "      <td>269000</td>\n",
       "      <td>['Chalet pareado', '3 plantas', '254 m² constr...</td>\n",
       "      <td>['Jardín', 'Consumo: \\n174 kWh/m² año', 'Emisi...</td>\n",
       "    </tr>\n",
       "    <tr>\n",
       "      <th>2</th>\n",
       "      <td>Casa de pueblo en venta en calle Nou</td>\n",
       "      <td>Sant Llorenç Savall</td>\n",
       "      <td>92000</td>\n",
       "      <td>['Casa de pueblo', '4 plantas', '241 m² constr...</td>\n",
       "      <td>['Consumo: \\n208 kWh/m² año', 'Emisiones: \\n43...</td>\n",
       "    </tr>\n",
       "    <tr>\n",
       "      <th>3</th>\n",
       "      <td>Casa o chalet independiente en venta en Avets</td>\n",
       "      <td>Sant Llorenç Savall</td>\n",
       "      <td>245000</td>\n",
       "      <td>['Casa o chalet independiente', '2 plantas', '...</td>\n",
       "      <td>['Piscina', 'Jardín', 'Consumo: \\n174 kWh/m² a...</td>\n",
       "    </tr>\n",
       "    <tr>\n",
       "      <th>4</th>\n",
       "      <td>Casa o chalet independiente en venta en aveni...</td>\n",
       "      <td>Sant Llorenç Savall</td>\n",
       "      <td>360000</td>\n",
       "      <td>['Casa o chalet independiente', '1 planta', '2...</td>\n",
       "      <td>['Piscina', 'Jardín', 'Consumo: \\n99 kWh/m² añ...</td>\n",
       "    </tr>\n",
       "  </tbody>\n",
       "</table>\n",
       "</div>"
      ],
      "text/plain": [
       "                                              Titulo         Localización  \\\n",
       "0           Chalet pareado en venta en Josep Albages  Sant Llorenç Savall   \n",
       "1           Chalet pareado en venta en Josep Albages  Sant Llorenç Savall   \n",
       "2               Casa de pueblo en venta en calle Nou  Sant Llorenç Savall   \n",
       "3      Casa o chalet independiente en venta en Avets  Sant Llorenç Savall   \n",
       "4   Casa o chalet independiente en venta en aveni...  Sant Llorenç Savall   \n",
       "\n",
       "   precio                            caracteristicas básicas  \\\n",
       "0  269000  ['Chalet pareado', '3 plantas', '254 m² constr...   \n",
       "1  269000  ['Chalet pareado', '3 plantas', '254 m² constr...   \n",
       "2   92000  ['Casa de pueblo', '4 plantas', '241 m² constr...   \n",
       "3  245000  ['Casa o chalet independiente', '2 plantas', '...   \n",
       "4  360000  ['Casa o chalet independiente', '1 planta', '2...   \n",
       "\n",
       "                                         Equipamento  \n",
       "0  ['Jardín', 'Consumo: \\n174 kWh/m² año', 'Emisi...  \n",
       "1  ['Jardín', 'Consumo: \\n174 kWh/m² año', 'Emisi...  \n",
       "2  ['Consumo: \\n208 kWh/m² año', 'Emisiones: \\n43...  \n",
       "3  ['Piscina', 'Jardín', 'Consumo: \\n174 kWh/m² a...  \n",
       "4  ['Piscina', 'Jardín', 'Consumo: \\n99 kWh/m² añ...  "
      ]
     },
     "execution_count": 160,
     "metadata": {},
     "output_type": "execute_result"
    }
   ],
   "source": [
    "df_casas = pd.read_csv(\"casas_idealista.csv\", encoding = \"utf-16\", sep=\";\")\n",
    "df_casas.head()"
   ]
  },
  {
   "cell_type": "code",
   "execution_count": 114,
   "metadata": {},
   "outputs": [
    {
     "data": {
      "text/plain": [
       "\"['Chalet pareado', '3 plantas', '254 m² construidos, 165 m² útiles', '5 habitaciones', '4 baños', 'Parcela de 268 m²', 'Terraza y balcón', 'Plaza de garaje incluida en el precio', 'Segunda mano/buen estado', 'Armarios empotrados', 'Trastero', 'Orientación sur, este', 'Construido en 1995', 'Calefacción individual']\""
      ]
     },
     "execution_count": 114,
     "metadata": {},
     "output_type": "execute_result"
    }
   ],
   "source": [
    "df_casas[\"caracteristicas básicas\"][0]"
   ]
  },
  {
   "cell_type": "markdown",
   "metadata": {},
   "source": [
    "# Convertir str a una lista organizada\n",
    "En nuestra base de datos tenemos que las columnas de \"Caracteristicas básicas\" y \"Equipamento\" tienen datos str pero que en realidad son listas, las tenemos que convertir de str a unas listas organizadas más faciles de manejar"
   ]
  },
  {
   "cell_type": "code",
   "execution_count": 161,
   "metadata": {},
   "outputs": [
    {
     "data": {
      "text/html": [
       "<div>\n",
       "<style scoped>\n",
       "    .dataframe tbody tr th:only-of-type {\n",
       "        vertical-align: middle;\n",
       "    }\n",
       "\n",
       "    .dataframe tbody tr th {\n",
       "        vertical-align: top;\n",
       "    }\n",
       "\n",
       "    .dataframe thead th {\n",
       "        text-align: right;\n",
       "    }\n",
       "</style>\n",
       "<table border=\"1\" class=\"dataframe\">\n",
       "  <thead>\n",
       "    <tr style=\"text-align: right;\">\n",
       "      <th></th>\n",
       "      <th>Titulo</th>\n",
       "      <th>Localización</th>\n",
       "      <th>precio</th>\n",
       "      <th>caracteristicas básicas</th>\n",
       "      <th>Equipamento</th>\n",
       "    </tr>\n",
       "  </thead>\n",
       "  <tbody>\n",
       "    <tr>\n",
       "      <th>0</th>\n",
       "      <td>Chalet pareado en venta en Josep Albages</td>\n",
       "      <td>Sant Llorenç Savall</td>\n",
       "      <td>269000</td>\n",
       "      <td>[Chalet pareado, 3 plantas, 254 m² construidos...</td>\n",
       "      <td>[Jardín, Consumo: \\n174 kWh/m² año, Emisiones:...</td>\n",
       "    </tr>\n",
       "    <tr>\n",
       "      <th>1</th>\n",
       "      <td>Chalet pareado en venta en Josep Albages</td>\n",
       "      <td>Sant Llorenç Savall</td>\n",
       "      <td>269000</td>\n",
       "      <td>[Chalet pareado, 3 plantas, 254 m² construidos...</td>\n",
       "      <td>[Jardín, Consumo: \\n174 kWh/m² año, Emisiones:...</td>\n",
       "    </tr>\n",
       "    <tr>\n",
       "      <th>2</th>\n",
       "      <td>Casa de pueblo en venta en calle Nou</td>\n",
       "      <td>Sant Llorenç Savall</td>\n",
       "      <td>92000</td>\n",
       "      <td>[Casa de pueblo, 4 plantas, 241 m² construidos...</td>\n",
       "      <td>[Consumo: \\n208 kWh/m² año, Emisiones: \\n43 kg...</td>\n",
       "    </tr>\n",
       "    <tr>\n",
       "      <th>3</th>\n",
       "      <td>Casa o chalet independiente en venta en Avets</td>\n",
       "      <td>Sant Llorenç Savall</td>\n",
       "      <td>245000</td>\n",
       "      <td>[Casa o chalet independiente, 2 plantas, 249 m...</td>\n",
       "      <td>[Piscina, Jardín, Consumo: \\n174 kWh/m² año, E...</td>\n",
       "    </tr>\n",
       "    <tr>\n",
       "      <th>4</th>\n",
       "      <td>Casa o chalet independiente en venta en aveni...</td>\n",
       "      <td>Sant Llorenç Savall</td>\n",
       "      <td>360000</td>\n",
       "      <td>[Casa o chalet independiente, 1 planta, 241 m²...</td>\n",
       "      <td>[Piscina, Jardín, Consumo: \\n99 kWh/m² año, Em...</td>\n",
       "    </tr>\n",
       "  </tbody>\n",
       "</table>\n",
       "</div>"
      ],
      "text/plain": [
       "                                              Titulo         Localización  \\\n",
       "0           Chalet pareado en venta en Josep Albages  Sant Llorenç Savall   \n",
       "1           Chalet pareado en venta en Josep Albages  Sant Llorenç Savall   \n",
       "2               Casa de pueblo en venta en calle Nou  Sant Llorenç Savall   \n",
       "3      Casa o chalet independiente en venta en Avets  Sant Llorenç Savall   \n",
       "4   Casa o chalet independiente en venta en aveni...  Sant Llorenç Savall   \n",
       "\n",
       "   precio                            caracteristicas básicas  \\\n",
       "0  269000  [Chalet pareado, 3 plantas, 254 m² construidos...   \n",
       "1  269000  [Chalet pareado, 3 plantas, 254 m² construidos...   \n",
       "2   92000  [Casa de pueblo, 4 plantas, 241 m² construidos...   \n",
       "3  245000  [Casa o chalet independiente, 2 plantas, 249 m...   \n",
       "4  360000  [Casa o chalet independiente, 1 planta, 241 m²...   \n",
       "\n",
       "                                         Equipamento  \n",
       "0  [Jardín, Consumo: \\n174 kWh/m² año, Emisiones:...  \n",
       "1  [Jardín, Consumo: \\n174 kWh/m² año, Emisiones:...  \n",
       "2  [Consumo: \\n208 kWh/m² año, Emisiones: \\n43 kg...  \n",
       "3  [Piscina, Jardín, Consumo: \\n174 kWh/m² año, E...  \n",
       "4  [Piscina, Jardín, Consumo: \\n99 kWh/m² año, Em...  "
      ]
     },
     "execution_count": 161,
     "metadata": {},
     "output_type": "execute_result"
    }
   ],
   "source": [
    "df_casas = pd.read_csv(\"casas_idealista.csv\", encoding = \"utf-16\", sep=\";\", converters={\"caracteristicas básicas\": literal_eval, \"Equipamento\": literal_eval})\n",
    "df_casas.head()"
   ]
  },
  {
   "cell_type": "code",
   "execution_count": 116,
   "metadata": {},
   "outputs": [
    {
     "data": {
      "text/plain": [
       "['Chalet pareado',\n",
       " '3 plantas',\n",
       " '254 m² construidos, 165 m² útiles',\n",
       " '5 habitaciones',\n",
       " '4 baños',\n",
       " 'Parcela de 268 m²',\n",
       " 'Terraza y balcón',\n",
       " 'Plaza de garaje incluida en el precio',\n",
       " 'Segunda mano/buen estado',\n",
       " 'Armarios empotrados',\n",
       " 'Trastero',\n",
       " 'Orientación sur, este',\n",
       " 'Construido en 1995',\n",
       " 'Calefacción individual']"
      ]
     },
     "execution_count": 116,
     "metadata": {},
     "output_type": "execute_result"
    }
   ],
   "source": [
    "df_casas[\"caracteristicas básicas\"][0]"
   ]
  },
  {
   "cell_type": "markdown",
   "metadata": {},
   "source": [
    "# Definición de funciones\n",
    "\n",
    "# 1. Match_property"
   ]
  },
  {
   "cell_type": "code",
   "execution_count": 117,
   "metadata": {},
   "outputs": [],
   "source": [
    "'''property --> se refiere a la propiedad en la que quiero buscar alguna palabra, en este caso \"con trastero\"\n",
    "   patterns --> se refiere a la palabra que quiero buscar dentro de la propeidad, en este caso \"con\" y será una lista '''\n",
    "\n",
    "def match_property(property, patterns):\n",
    "    for pat in patterns:\n",
    "        match_prop = re.search(pat, property) # Buscar el patrón en el property que le estoy dando\n",
    "        \n",
    "        if match_prop:                        # \"if match_prop\": quiere decir, si match_prop es verdad entonces, dame un True, sino un False\n",
    "            return True\n",
    "    return False"
   ]
  },
  {
   "cell_type": "code",
   "execution_count": 118,
   "metadata": {},
   "outputs": [
    {
     "data": {
      "text/plain": [
       "True"
      ]
     },
     "execution_count": 118,
     "metadata": {},
     "output_type": "execute_result"
    }
   ],
   "source": [
    "'''Prueba de la función creada\n",
    "   ¿Está \"con\" en \"con trastero?\" en caso de estar imprimir True, sino imprimir False'''\n",
    "\n",
    "match_property(\"con trastero\", [\"con\"])"
   ]
  },
  {
   "cell_type": "markdown",
   "metadata": {},
   "source": [
    "Esta función será util ya que si le proporciono una lista con varios elementos le puedo decir, cuando encuentres la palabra \"con\" en esta lista, acá debes actuar\n",
    "\n",
    "# 2. Check_property --> cumple la misma función que match_property pero me arroja 0 o 1"
   ]
  },
  {
   "cell_type": "code",
   "execution_count": 119,
   "metadata": {},
   "outputs": [],
   "source": [
    "def check_property(property, patterns):\n",
    "    for pat in patterns:\n",
    "        check = re.search(pat, property) # Buscar el patrón en el property que le estoy dando\n",
    "        \n",
    "        if check:                        # \"if check\": quiere decir, si check es verdad entonces, dame un 1, sino un 0\n",
    "            return 1\n",
    "    return 0"
   ]
  },
  {
   "cell_type": "code",
   "execution_count": 120,
   "metadata": {},
   "outputs": [
    {
     "data": {
      "text/plain": [
       "1"
      ]
     },
     "execution_count": 120,
     "metadata": {},
     "output_type": "execute_result"
    }
   ],
   "source": [
    "'''Prueba de la función creada\n",
    "   ¿Está \"con\" en \"con trastero?\" en caso de estar imprimir 1 si no imprimir 0'''\n",
    "\n",
    "check_property(\"con trastero\", [\"con\"])"
   ]
  },
  {
   "cell_type": "markdown",
   "metadata": {},
   "source": [
    "# 3. Get_number --> Me busca los numeros en un str"
   ]
  },
  {
   "cell_type": "code",
   "execution_count": 121,
   "metadata": {},
   "outputs": [],
   "source": [
    "def get_number(property):\n",
    "    nums = re.findall(r\"\\d+\", property)\n",
    "    if len(nums) == 2:\n",
    "        return int(nums[0]+nums[1])  # \"40.000\" -> \"40\" + \"000\" -> \"40000\" -> 40000\n",
    "    else:\n",
    "        return int(nums[0])"
   ]
  },
  {
   "cell_type": "code",
   "execution_count": 122,
   "metadata": {},
   "outputs": [
    {
     "data": {
      "text/plain": [
       "['2']"
      ]
     },
     "execution_count": 122,
     "metadata": {},
     "output_type": "execute_result"
    }
   ],
   "source": [
    "re.findall(r\"\\d+\", \"2 baños\")"
   ]
  },
  {
   "cell_type": "code",
   "execution_count": 123,
   "metadata": {},
   "outputs": [
    {
     "data": {
      "text/plain": [
       "2"
      ]
     },
     "execution_count": 123,
     "metadata": {},
     "output_type": "execute_result"
    }
   ],
   "source": [
    "get_number(\"2 baños\")"
   ]
  },
  {
   "cell_type": "code",
   "execution_count": 124,
   "metadata": {},
   "outputs": [
    {
     "data": {
      "text/plain": [
       "40000"
      ]
     },
     "execution_count": 124,
     "metadata": {},
     "output_type": "execute_result"
    }
   ],
   "source": [
    "get_number(\"40.000 de precio\")"
   ]
  },
  {
   "cell_type": "markdown",
   "metadata": {},
   "source": [
    "# 4. Get_ascensor"
   ]
  },
  {
   "cell_type": "code",
   "execution_count": 125,
   "metadata": {},
   "outputs": [],
   "source": [
    "'''Features --> es la lista de caracteristica que le voy dar a mi función'''\n",
    "\n",
    "def get_ascensor(features):\n",
    "    for prop in features:\n",
    "        \n",
    "        '''.lower() --> lo hace todo minuscula\n",
    "           .strip() --> le quita los espacios\n",
    "           \n",
    "           Primero estoy buscando donde aparece con ascensor, si aparece voy a activarlo y voy a buscar que tenga un \"con\", si lo tiene me\n",
    "           pone un 1 y si no tiene con me aparece un 0 \n",
    "           \n",
    "           Resumen: Si el elemento prop en minus y sin espacios coincide con \"ascensor\" aplicar check_property'''\n",
    "           \n",
    "        if match_property(prop.lower().strip(), [\"ascensor\"]):   \n",
    "            return(check_property(prop.lower().strip(), [\"con\"]))"
   ]
  },
  {
   "cell_type": "code",
   "execution_count": 126,
   "metadata": {},
   "outputs": [
    {
     "data": {
      "text/plain": [
       "True"
      ]
     },
     "execution_count": 126,
     "metadata": {},
     "output_type": "execute_result"
    }
   ],
   "source": [
    "'''Buscamos si aparece la palabra \"ascensor\" en minuscula y sin espacios, si aparece True, sino False'''\n",
    "match_property(\"con ascensor\".lower().strip(), [\"ascensor\"])"
   ]
  },
  {
   "cell_type": "code",
   "execution_count": 127,
   "metadata": {},
   "outputs": [
    {
     "data": {
      "text/plain": [
       "1"
      ]
     },
     "execution_count": 127,
     "metadata": {},
     "output_type": "execute_result"
    }
   ],
   "source": [
    "'''Luego Buscamos si aparece la palabra \"con\" en minuscula y sin espacios, si aparece 1, sino 0'''\n",
    "check_property(\"con ascensor\".lower().strip(), [\"con\"])"
   ]
  },
  {
   "cell_type": "code",
   "execution_count": 128,
   "metadata": {},
   "outputs": [
    {
     "name": "stdout",
     "output_type": "stream",
     "text": [
      "con ascensor de dar 1\n",
      "sin ascensor de dar 0\n"
     ]
    }
   ],
   "source": [
    "var_1 = get_ascensor([\"con ascensor\"])\n",
    "var_2 = get_ascensor([\"sin ascensor\"])\n",
    "print(\"con ascensor de dar \" + str(var_1))\n",
    "print(\"sin ascensor de dar \" + str(var_2))"
   ]
  },
  {
   "cell_type": "markdown",
   "metadata": {},
   "source": [
    "# 5. Get_baños\n",
    "\n",
    "Esta función nos sirve para lo mismo pero nos va a devolver el numero que esté en un str, entonces si el str es 2 baños, vamos a obtener el numero 2"
   ]
  },
  {
   "cell_type": "code",
   "execution_count": 129,
   "metadata": {},
   "outputs": [],
   "source": [
    "def get_baños(features):\n",
    "    for prop in features:\n",
    "        if match_property(prop.lower().strip(), [\"baño\"]):\n",
    "            return(get_number(prop.lower().strip()))"
   ]
  },
  {
   "cell_type": "code",
   "execution_count": 130,
   "metadata": {},
   "outputs": [
    {
     "data": {
      "text/plain": [
       "3"
      ]
     },
     "execution_count": 130,
     "metadata": {},
     "output_type": "execute_result"
    }
   ],
   "source": [
    "get_baños([\"3 baños\"])"
   ]
  },
  {
   "cell_type": "markdown",
   "metadata": {},
   "source": [
    "# 6. Get_año"
   ]
  },
  {
   "cell_type": "code",
   "execution_count": 131,
   "metadata": {},
   "outputs": [
    {
     "data": {
      "text/plain": [
       "['Casa o chalet independiente',\n",
       " '1 planta',\n",
       " '240 m² construidos, 160 m² útiles',\n",
       " '3 habitaciones',\n",
       " '3 baños',\n",
       " 'Plaza de garaje incluida en el precio',\n",
       " 'Segunda mano/buen estado',\n",
       " 'Armarios empotrados',\n",
       " 'Trastero',\n",
       " 'Construido en 2008',\n",
       " 'Calefacción individual: Gas natural']"
      ]
     },
     "execution_count": 131,
     "metadata": {},
     "output_type": "execute_result"
    }
   ],
   "source": [
    "df_casas[\"caracteristicas básicas\"][34]"
   ]
  },
  {
   "cell_type": "code",
   "execution_count": 132,
   "metadata": {},
   "outputs": [],
   "source": [
    "def get_año(features):\n",
    "    for prop in features:\n",
    "        if match_property(prop.lower().strip(), [\"construido en\"]):\n",
    "            return(int(get_number(prop.lower().strip())))"
   ]
  },
  {
   "cell_type": "code",
   "execution_count": 133,
   "metadata": {},
   "outputs": [
    {
     "data": {
      "text/plain": [
       "2008"
      ]
     },
     "execution_count": 133,
     "metadata": {},
     "output_type": "execute_result"
    }
   ],
   "source": [
    "get_año([\"Construido en 2008\"])"
   ]
  },
  {
   "cell_type": "markdown",
   "metadata": {},
   "source": [
    "# 7. Get_trastero"
   ]
  },
  {
   "cell_type": "code",
   "execution_count": 134,
   "metadata": {},
   "outputs": [],
   "source": [
    "def get_trastero(features):\n",
    "    for prop in features:\n",
    "        if match_property(prop.lower().strip(), [\"trastero\"]):\n",
    "            return 1\n",
    "        return 0"
   ]
  },
  {
   "cell_type": "code",
   "execution_count": 135,
   "metadata": {},
   "outputs": [],
   "source": [
    "def get_trastero(features):\n",
    "    value = 0\n",
    "    for prop in features:\n",
    "        if match_property(prop.lower().strip(), [\"trastero\"]):\n",
    "            value += 1\n",
    "    return (value)"
   ]
  },
  {
   "cell_type": "code",
   "execution_count": 136,
   "metadata": {},
   "outputs": [
    {
     "data": {
      "text/plain": [
       "1"
      ]
     },
     "execution_count": 136,
     "metadata": {},
     "output_type": "execute_result"
    }
   ],
   "source": [
    "get_trastero([\"trastero\"])"
   ]
  },
  {
   "cell_type": "markdown",
   "metadata": {},
   "source": [
    "# 8. Get_orientación"
   ]
  },
  {
   "cell_type": "code",
   "execution_count": 137,
   "metadata": {},
   "outputs": [
    {
     "data": {
      "text/plain": [
       "['Casa o chalet independiente',\n",
       " '3 plantas',\n",
       " '240 m² construidos, 165 m² útiles',\n",
       " '3 habitaciones',\n",
       " '3 baños',\n",
       " 'Plaza de garaje incluida en el precio',\n",
       " 'Segunda mano/buen estado',\n",
       " 'Armarios empotrados',\n",
       " 'Trastero',\n",
       " 'Orientación sur, oeste',\n",
       " 'Construido en 2008',\n",
       " 'Calefacción individual: Gas propano/butano']"
      ]
     },
     "execution_count": 137,
     "metadata": {},
     "output_type": "execute_result"
    }
   ],
   "source": [
    "df_casas[\"caracteristicas básicas\"][26]"
   ]
  },
  {
   "cell_type": "code",
   "execution_count": 138,
   "metadata": {},
   "outputs": [],
   "source": [
    "def get_orientación(features):\n",
    "    for prop in features:\n",
    "        if match_property(prop.lower().strip(), [\"orientación\"]):\n",
    "            return(prop.split(\" \", maxsplit=1)[1].strip().split(\", \")[0])"
   ]
  },
  {
   "cell_type": "code",
   "execution_count": 139,
   "metadata": {},
   "outputs": [
    {
     "data": {
      "text/plain": [
       "'sur'"
      ]
     },
     "execution_count": 139,
     "metadata": {},
     "output_type": "execute_result"
    }
   ],
   "source": [
    "get_orientación(['Orientación sur, oeste'])"
   ]
  },
  {
   "cell_type": "code",
   "execution_count": 140,
   "metadata": {},
   "outputs": [
    {
     "name": "stdout",
     "output_type": "stream",
     "text": [
      "['Orientación', 'sur, oeste']\n",
      "sur, oeste\n",
      "['sur', 'oeste']\n",
      "sur\n"
     ]
    }
   ],
   "source": [
    "'''Split por espacio, cuando tenga un str separado por espacio o una coma o lo que sea entonces me separa el str en una lista'''\n",
    "one = \"Orientación sur, oeste\".split(\" \", maxsplit=1)\n",
    "print(one)\n",
    "\n",
    "'''Seleccionar el segundo elemento'''\n",
    "two = \"Orientación sur, oeste\".split(\" \", maxsplit=1)[1]\n",
    "print(two)\n",
    "\n",
    "'''Corregir los espacios y separar las dos orientaciones separadas por comas en otra lista'''\n",
    "three = \"Orientación sur, oeste\".split(\" \", maxsplit=1)[1].strip().split(\", \")\n",
    "print(three)\n",
    "\n",
    "'''Seleccionar el primer elemeto'''\n",
    "four = \"Orientación sur, oeste\".split(\" \", maxsplit=1)[1].strip().split(\", \")[0]\n",
    "print(four)"
   ]
  },
  {
   "cell_type": "markdown",
   "metadata": {},
   "source": [
    "# 9. Get_piso"
   ]
  },
  {
   "cell_type": "code",
   "execution_count": 141,
   "metadata": {},
   "outputs": [],
   "source": [
    "def get_piso(features):\n",
    "    for prop in features:\n",
    "        if match_property(prop.lower().strip(), [\"bajo\", \"planta\", \"interior\", \"exterior\"]):\n",
    "            return(prop)"
   ]
  },
  {
   "cell_type": "markdown",
   "metadata": {},
   "source": [
    "# 10. Get_habitaciones"
   ]
  },
  {
   "cell_type": "code",
   "execution_count": 142,
   "metadata": {},
   "outputs": [],
   "source": [
    "def get_habitaciones(features):\n",
    "    for prop in features:\n",
    "        if match_property(prop.lower().strip(), [\"habitaciones\"]):\n",
    "            return(get_number(prop.lower().strip()))"
   ]
  },
  {
   "cell_type": "code",
   "execution_count": 143,
   "metadata": {},
   "outputs": [],
   "source": [
    "def get_habitaciones(features):\n",
    "    for prop in features:\n",
    "        if match_property(prop.lower().strip(), [\"habitaciones\"]):\n",
    "            try:\n",
    "                habitaciones = get_number(prop.lower().strip())\n",
    "            except:\n",
    "                habitaciones = prop\n",
    "            return(habitaciones)"
   ]
  },
  {
   "cell_type": "code",
   "execution_count": 144,
   "metadata": {},
   "outputs": [
    {
     "data": {
      "text/plain": [
       "9"
      ]
     },
     "execution_count": 144,
     "metadata": {},
     "output_type": "execute_result"
    }
   ],
   "source": [
    "get_habitaciones([\"9 habitaciones o más\"])"
   ]
  },
  {
   "cell_type": "markdown",
   "metadata": {},
   "source": [
    "# 11. Get_metros_reales"
   ]
  },
  {
   "cell_type": "code",
   "execution_count": 145,
   "metadata": {},
   "outputs": [],
   "source": [
    "def get_metros_reales(features):\n",
    "    for prop in features:\n",
    "        if match_property(prop.lower().strip(), [\"m²\"]):\n",
    "            try:\n",
    "                metros = get_number(prop.lower().strip().split(\",\")[0])\n",
    "            except:\n",
    "                metros = prop\n",
    "            return(metros)"
   ]
  },
  {
   "cell_type": "markdown",
   "metadata": {},
   "source": [
    "# 12. Get_condición"
   ]
  },
  {
   "cell_type": "code",
   "execution_count": 146,
   "metadata": {},
   "outputs": [],
   "source": [
    "def get_condicion(features):\n",
    "    for prop in features:\n",
    "        if match_property(prop.lower().strip(), [\"segunda mano\", \"promoción de obra nueva\"]):\n",
    "            return(prop)"
   ]
  },
  {
   "cell_type": "markdown",
   "metadata": {},
   "source": [
    "# 13. Get_armario_empotrado"
   ]
  },
  {
   "cell_type": "code",
   "execution_count": 147,
   "metadata": {},
   "outputs": [],
   "source": [
    "def get_armario_empotrado(features):\n",
    "    value = 0\n",
    "    for prop in features:\n",
    "        if match_property(prop.lower().strip(), [\"armarios empotrados\"]):\n",
    "            value += 1\n",
    "    return(value)"
   ]
  },
  {
   "cell_type": "code",
   "execution_count": 148,
   "metadata": {},
   "outputs": [
    {
     "data": {
      "text/plain": [
       "['Chalet adosado',\n",
       " '1 planta',\n",
       " '169 m² construidos',\n",
       " '3 habitaciones',\n",
       " '3 baños',\n",
       " 'Terraza',\n",
       " 'Plaza de garaje incluida en el precio',\n",
       " 'Segunda mano/buen estado',\n",
       " 'Armarios empotrados',\n",
       " 'Orientación norte, oeste',\n",
       " 'Construido en 2008',\n",
       " 'Calefacción individual: Gas propano/butano']"
      ]
     },
     "execution_count": 148,
     "metadata": {},
     "output_type": "execute_result"
    }
   ],
   "source": [
    "df_casas[\"caracteristicas básicas\"][36]"
   ]
  },
  {
   "cell_type": "markdown",
   "metadata": {},
   "source": [
    "# 14. Get_terraza"
   ]
  },
  {
   "cell_type": "code",
   "execution_count": 149,
   "metadata": {},
   "outputs": [],
   "source": [
    "def get_terraza(features):\n",
    "    value = 0\n",
    "    for prop in features:\n",
    "        if match_property(prop.lower().strip(), [\"terraza\"]):\n",
    "            value += 1\n",
    "    return(value)"
   ]
  },
  {
   "cell_type": "markdown",
   "metadata": {},
   "source": [
    "# 15. Get_balcón"
   ]
  },
  {
   "cell_type": "code",
   "execution_count": 150,
   "metadata": {},
   "outputs": [],
   "source": [
    "def get_balcón(features):\n",
    "    value = 0\n",
    "    for prop in features:\n",
    "        if match_property(prop.lower().strip(), [\"balcón\"]):\n",
    "            value += 1\n",
    "    return(value)"
   ]
  },
  {
   "cell_type": "markdown",
   "metadata": {},
   "source": [
    "# 16. Get_jardín"
   ]
  },
  {
   "cell_type": "code",
   "execution_count": 151,
   "metadata": {},
   "outputs": [],
   "source": [
    "def get_jardin(features):\n",
    "    value = 0\n",
    "    for prop in features:\n",
    "        if match_property(prop.lower().strip(), [\"jardín\"]):\n",
    "            value += 1\n",
    "    return(value)"
   ]
  },
  {
   "cell_type": "markdown",
   "metadata": {},
   "source": [
    "# 17. Get_garaje"
   ]
  },
  {
   "cell_type": "code",
   "execution_count": 152,
   "metadata": {},
   "outputs": [],
   "source": [
    "def get_garaje(features):\n",
    "    value = 0\n",
    "    for prop in features:\n",
    "        if match_property(prop.lower().strip(), [\"garaje\"]):\n",
    "            value += 1\n",
    "    return(value)"
   ]
  },
  {
   "cell_type": "markdown",
   "metadata": {},
   "source": [
    "# 18. Get_calefacción"
   ]
  },
  {
   "cell_type": "code",
   "execution_count": 153,
   "metadata": {},
   "outputs": [],
   "source": [
    "def get_calefaccion(features):\n",
    "    value = 0\n",
    "    for prop in features:\n",
    "        if match_property(prop.lower().strip(), [\"calefacción\"]):\n",
    "            value += 1\n",
    "    return(value)"
   ]
  },
  {
   "cell_type": "markdown",
   "metadata": {},
   "source": [
    "# 19. Get_aire_acon"
   ]
  },
  {
   "cell_type": "code",
   "execution_count": 154,
   "metadata": {},
   "outputs": [],
   "source": [
    "def get_aire_acon(features):\n",
    "    value = 0\n",
    "    for prop in features:\n",
    "        if match_property(prop.lower().strip(), [\"aire acondicionado\"]):\n",
    "            value += 1\n",
    "    return(value)"
   ]
  },
  {
   "cell_type": "markdown",
   "metadata": {},
   "source": [
    "# Actualizar el DataFrame"
   ]
  },
  {
   "cell_type": "code",
   "execution_count": 162,
   "metadata": {},
   "outputs": [
    {
     "data": {
      "text/html": [
       "<div>\n",
       "<style scoped>\n",
       "    .dataframe tbody tr th:only-of-type {\n",
       "        vertical-align: middle;\n",
       "    }\n",
       "\n",
       "    .dataframe tbody tr th {\n",
       "        vertical-align: top;\n",
       "    }\n",
       "\n",
       "    .dataframe thead th {\n",
       "        text-align: right;\n",
       "    }\n",
       "</style>\n",
       "<table border=\"1\" class=\"dataframe\">\n",
       "  <thead>\n",
       "    <tr style=\"text-align: right;\">\n",
       "      <th></th>\n",
       "      <th>Titulo</th>\n",
       "      <th>Localización</th>\n",
       "      <th>precio</th>\n",
       "      <th>caracteristicas básicas</th>\n",
       "      <th>Equipamento</th>\n",
       "    </tr>\n",
       "  </thead>\n",
       "  <tbody>\n",
       "    <tr>\n",
       "      <th>0</th>\n",
       "      <td>Chalet pareado en venta en Josep Albages</td>\n",
       "      <td>Sant Llorenç Savall</td>\n",
       "      <td>269000</td>\n",
       "      <td>[Chalet pareado, 3 plantas, 254 m² construidos...</td>\n",
       "      <td>[Jardín, Consumo: \\n174 kWh/m² año, Emisiones:...</td>\n",
       "    </tr>\n",
       "    <tr>\n",
       "      <th>1</th>\n",
       "      <td>Chalet pareado en venta en Josep Albages</td>\n",
       "      <td>Sant Llorenç Savall</td>\n",
       "      <td>269000</td>\n",
       "      <td>[Chalet pareado, 3 plantas, 254 m² construidos...</td>\n",
       "      <td>[Jardín, Consumo: \\n174 kWh/m² año, Emisiones:...</td>\n",
       "    </tr>\n",
       "    <tr>\n",
       "      <th>2</th>\n",
       "      <td>Casa de pueblo en venta en calle Nou</td>\n",
       "      <td>Sant Llorenç Savall</td>\n",
       "      <td>92000</td>\n",
       "      <td>[Casa de pueblo, 4 plantas, 241 m² construidos...</td>\n",
       "      <td>[Consumo: \\n208 kWh/m² año, Emisiones: \\n43 kg...</td>\n",
       "    </tr>\n",
       "    <tr>\n",
       "      <th>3</th>\n",
       "      <td>Casa o chalet independiente en venta en Avets</td>\n",
       "      <td>Sant Llorenç Savall</td>\n",
       "      <td>245000</td>\n",
       "      <td>[Casa o chalet independiente, 2 plantas, 249 m...</td>\n",
       "      <td>[Piscina, Jardín, Consumo: \\n174 kWh/m² año, E...</td>\n",
       "    </tr>\n",
       "    <tr>\n",
       "      <th>4</th>\n",
       "      <td>Casa o chalet independiente en venta en aveni...</td>\n",
       "      <td>Sant Llorenç Savall</td>\n",
       "      <td>360000</td>\n",
       "      <td>[Casa o chalet independiente, 1 planta, 241 m²...</td>\n",
       "      <td>[Piscina, Jardín, Consumo: \\n99 kWh/m² año, Em...</td>\n",
       "    </tr>\n",
       "    <tr>\n",
       "      <th>...</th>\n",
       "      <td>...</td>\n",
       "      <td>...</td>\n",
       "      <td>...</td>\n",
       "      <td>...</td>\n",
       "      <td>...</td>\n",
       "    </tr>\n",
       "    <tr>\n",
       "      <th>64</th>\n",
       "      <td>Casa de pueblo en venta en calle Barcelona, 9</td>\n",
       "      <td>Sant Llorenç Savall</td>\n",
       "      <td>260000</td>\n",
       "      <td>[Casa de pueblo, 3 plantas, 160 m² construidos...</td>\n",
       "      <td>[Consumo: \\n128,9 kWh/m² año, Emisiones: \\n28 ...</td>\n",
       "    </tr>\n",
       "    <tr>\n",
       "      <th>65</th>\n",
       "      <td>Finca rústica en venta en carretera de sant f...</td>\n",
       "      <td>Sant Llorenç Savall</td>\n",
       "      <td>400000</td>\n",
       "      <td>[Finca rústica, 1 planta, 400 m² construidos, ...</td>\n",
       "      <td>[En trámite]</td>\n",
       "    </tr>\n",
       "    <tr>\n",
       "      <th>66</th>\n",
       "      <td>Estudio en venta en Sant Llorenç Savall</td>\n",
       "      <td>Vallès Occidental</td>\n",
       "      <td>78000</td>\n",
       "      <td>[48 m² construidos, Sin habitación, 1 baño, Se...</td>\n",
       "      <td>[No indicado]</td>\n",
       "    </tr>\n",
       "    <tr>\n",
       "      <th>67</th>\n",
       "      <td>Casa o chalet en venta en carretera de Monistrol</td>\n",
       "      <td>Sant Llorenç Savall</td>\n",
       "      <td>176300</td>\n",
       "      <td>[Casa o chalet, 329 m² construidos, 229 m² úti...</td>\n",
       "      <td>[Consumo:]</td>\n",
       "    </tr>\n",
       "    <tr>\n",
       "      <th>68</th>\n",
       "      <td>Casa o chalet en venta en calle del Romani</td>\n",
       "      <td>Sant Llorenç Savall</td>\n",
       "      <td>181100</td>\n",
       "      <td>[Casa o chalet, 63 m² construidos, 2 habitacio...</td>\n",
       "      <td>[No indicado]</td>\n",
       "    </tr>\n",
       "  </tbody>\n",
       "</table>\n",
       "<p>69 rows × 5 columns</p>\n",
       "</div>"
      ],
      "text/plain": [
       "                                               Titulo         Localización  \\\n",
       "0            Chalet pareado en venta en Josep Albages  Sant Llorenç Savall   \n",
       "1            Chalet pareado en venta en Josep Albages  Sant Llorenç Savall   \n",
       "2                Casa de pueblo en venta en calle Nou  Sant Llorenç Savall   \n",
       "3       Casa o chalet independiente en venta en Avets  Sant Llorenç Savall   \n",
       "4    Casa o chalet independiente en venta en aveni...  Sant Llorenç Savall   \n",
       "..                                                ...                  ...   \n",
       "64      Casa de pueblo en venta en calle Barcelona, 9  Sant Llorenç Savall   \n",
       "65   Finca rústica en venta en carretera de sant f...  Sant Llorenç Savall   \n",
       "66            Estudio en venta en Sant Llorenç Savall    Vallès Occidental   \n",
       "67   Casa o chalet en venta en carretera de Monistrol  Sant Llorenç Savall   \n",
       "68         Casa o chalet en venta en calle del Romani  Sant Llorenç Savall   \n",
       "\n",
       "    precio                            caracteristicas básicas  \\\n",
       "0   269000  [Chalet pareado, 3 plantas, 254 m² construidos...   \n",
       "1   269000  [Chalet pareado, 3 plantas, 254 m² construidos...   \n",
       "2    92000  [Casa de pueblo, 4 plantas, 241 m² construidos...   \n",
       "3   245000  [Casa o chalet independiente, 2 plantas, 249 m...   \n",
       "4   360000  [Casa o chalet independiente, 1 planta, 241 m²...   \n",
       "..     ...                                                ...   \n",
       "64  260000  [Casa de pueblo, 3 plantas, 160 m² construidos...   \n",
       "65  400000  [Finca rústica, 1 planta, 400 m² construidos, ...   \n",
       "66   78000  [48 m² construidos, Sin habitación, 1 baño, Se...   \n",
       "67  176300  [Casa o chalet, 329 m² construidos, 229 m² úti...   \n",
       "68  181100  [Casa o chalet, 63 m² construidos, 2 habitacio...   \n",
       "\n",
       "                                          Equipamento  \n",
       "0   [Jardín, Consumo: \\n174 kWh/m² año, Emisiones:...  \n",
       "1   [Jardín, Consumo: \\n174 kWh/m² año, Emisiones:...  \n",
       "2   [Consumo: \\n208 kWh/m² año, Emisiones: \\n43 kg...  \n",
       "3   [Piscina, Jardín, Consumo: \\n174 kWh/m² año, E...  \n",
       "4   [Piscina, Jardín, Consumo: \\n99 kWh/m² año, Em...  \n",
       "..                                                ...  \n",
       "64  [Consumo: \\n128,9 kWh/m² año, Emisiones: \\n28 ...  \n",
       "65                                       [En trámite]  \n",
       "66                                      [No indicado]  \n",
       "67                                         [Consumo:]  \n",
       "68                                      [No indicado]  \n",
       "\n",
       "[69 rows x 5 columns]"
      ]
     },
     "execution_count": 162,
     "metadata": {},
     "output_type": "execute_result"
    }
   ],
   "source": [
    "df_casas_1 = df_casas.copy()\n",
    "df_casas_1"
   ]
  },
  {
   "cell_type": "code",
   "execution_count": 163,
   "metadata": {},
   "outputs": [],
   "source": [
    "'''Vamos a aplicar las funciones creadas para las columnas correspondientes de mi DataFrame'''\n",
    "df_casas_1[\"ascensor\"] = df_casas_1[\"caracteristicas básicas\"].apply(get_ascensor)\n",
    "df_casas_1[\"baños\"] = df_casas_1[\"caracteristicas básicas\"].apply(get_baños)\n",
    "df_casas_1[\"año\"] = df_casas_1[\"caracteristicas básicas\"].apply(get_año)\n",
    "df_casas_1[\"trastero\"] = df_casas_1[\"caracteristicas básicas\"].apply(get_trastero)\n",
    "df_casas_1[\"orientación\"] = df_casas_1[\"caracteristicas básicas\"].apply(get_orientación)\n",
    "df_casas_1[\"piso\"] = df_casas_1[\"caracteristicas básicas\"].apply(get_piso)\n",
    "df_casas_1[\"habitaciones\"] = df_casas_1[\"caracteristicas básicas\"].apply(get_habitaciones)\n",
    "df_casas_1[\"metros reales\"] = df_casas_1[\"caracteristicas básicas\"].apply(get_metros_reales)\n",
    "df_casas_1[\"condición\"] = df_casas_1[\"caracteristicas básicas\"].apply(get_condicion)\n",
    "df_casas_1[\"armarios empotrados\"] = df_casas_1[\"caracteristicas básicas\"].apply(get_armario_empotrado)\n",
    "df_casas_1[\"terraza\"] = df_casas_1[\"caracteristicas básicas\"].apply(get_terraza)\n",
    "df_casas_1[\"balcón\"] = df_casas_1[\"caracteristicas básicas\"].apply(get_balcón)\n",
    "df_casas_1[\"jardín\"] = df_casas_1[\"caracteristicas básicas\"].apply(get_jardin)\n",
    "df_casas_1[\"garaje\"] = df_casas_1[\"caracteristicas básicas\"].apply(get_garaje)\n",
    "df_casas_1[\"calefacción\"] = df_casas_1[\"caracteristicas básicas\"].apply(get_calefaccion)\n",
    "\n",
    "'''Equipamento'''\n",
    "df_casas_1[\"aire acondicionado\"] = df_casas_1[\"Equipamento\"].apply(get_aire_acon)\n"
   ]
  },
  {
   "cell_type": "code",
   "execution_count": 164,
   "metadata": {},
   "outputs": [
    {
     "data": {
      "text/html": [
       "<div>\n",
       "<style scoped>\n",
       "    .dataframe tbody tr th:only-of-type {\n",
       "        vertical-align: middle;\n",
       "    }\n",
       "\n",
       "    .dataframe tbody tr th {\n",
       "        vertical-align: top;\n",
       "    }\n",
       "\n",
       "    .dataframe thead th {\n",
       "        text-align: right;\n",
       "    }\n",
       "</style>\n",
       "<table border=\"1\" class=\"dataframe\">\n",
       "  <thead>\n",
       "    <tr style=\"text-align: right;\">\n",
       "      <th></th>\n",
       "      <th>Titulo</th>\n",
       "      <th>Localización</th>\n",
       "      <th>precio</th>\n",
       "      <th>caracteristicas básicas</th>\n",
       "      <th>Equipamento</th>\n",
       "      <th>ascensor</th>\n",
       "      <th>baños</th>\n",
       "      <th>año</th>\n",
       "      <th>trastero</th>\n",
       "      <th>orientación</th>\n",
       "      <th>...</th>\n",
       "      <th>habitaciones</th>\n",
       "      <th>metros reales</th>\n",
       "      <th>condición</th>\n",
       "      <th>armarios empotrados</th>\n",
       "      <th>terraza</th>\n",
       "      <th>balcón</th>\n",
       "      <th>jardín</th>\n",
       "      <th>garaje</th>\n",
       "      <th>calefacción</th>\n",
       "      <th>aire acondicionado</th>\n",
       "    </tr>\n",
       "  </thead>\n",
       "  <tbody>\n",
       "    <tr>\n",
       "      <th>0</th>\n",
       "      <td>Chalet pareado en venta en Josep Albages</td>\n",
       "      <td>Sant Llorenç Savall</td>\n",
       "      <td>269000</td>\n",
       "      <td>[Chalet pareado, 3 plantas, 254 m² construidos...</td>\n",
       "      <td>[Jardín, Consumo: \\n174 kWh/m² año, Emisiones:...</td>\n",
       "      <td>NaN</td>\n",
       "      <td>4</td>\n",
       "      <td>1995.0</td>\n",
       "      <td>1</td>\n",
       "      <td>sur</td>\n",
       "      <td>...</td>\n",
       "      <td>5.0</td>\n",
       "      <td>254</td>\n",
       "      <td>Segunda mano/buen estado</td>\n",
       "      <td>1</td>\n",
       "      <td>1</td>\n",
       "      <td>1</td>\n",
       "      <td>0</td>\n",
       "      <td>1</td>\n",
       "      <td>1</td>\n",
       "      <td>0</td>\n",
       "    </tr>\n",
       "    <tr>\n",
       "      <th>1</th>\n",
       "      <td>Chalet pareado en venta en Josep Albages</td>\n",
       "      <td>Sant Llorenç Savall</td>\n",
       "      <td>269000</td>\n",
       "      <td>[Chalet pareado, 3 plantas, 254 m² construidos...</td>\n",
       "      <td>[Jardín, Consumo: \\n174 kWh/m² año, Emisiones:...</td>\n",
       "      <td>NaN</td>\n",
       "      <td>4</td>\n",
       "      <td>1995.0</td>\n",
       "      <td>1</td>\n",
       "      <td>sur</td>\n",
       "      <td>...</td>\n",
       "      <td>5.0</td>\n",
       "      <td>254</td>\n",
       "      <td>Segunda mano/buen estado</td>\n",
       "      <td>1</td>\n",
       "      <td>1</td>\n",
       "      <td>1</td>\n",
       "      <td>0</td>\n",
       "      <td>1</td>\n",
       "      <td>1</td>\n",
       "      <td>0</td>\n",
       "    </tr>\n",
       "    <tr>\n",
       "      <th>2</th>\n",
       "      <td>Casa de pueblo en venta en calle Nou</td>\n",
       "      <td>Sant Llorenç Savall</td>\n",
       "      <td>92000</td>\n",
       "      <td>[Casa de pueblo, 4 plantas, 241 m² construidos...</td>\n",
       "      <td>[Consumo: \\n208 kWh/m² año, Emisiones: \\n43 kg...</td>\n",
       "      <td>NaN</td>\n",
       "      <td>1</td>\n",
       "      <td>NaN</td>\n",
       "      <td>1</td>\n",
       "      <td>este</td>\n",
       "      <td>...</td>\n",
       "      <td>4.0</td>\n",
       "      <td>241</td>\n",
       "      <td>Segunda mano/para reformar</td>\n",
       "      <td>0</td>\n",
       "      <td>1</td>\n",
       "      <td>1</td>\n",
       "      <td>0</td>\n",
       "      <td>0</td>\n",
       "      <td>1</td>\n",
       "      <td>0</td>\n",
       "    </tr>\n",
       "    <tr>\n",
       "      <th>3</th>\n",
       "      <td>Casa o chalet independiente en venta en Avets</td>\n",
       "      <td>Sant Llorenç Savall</td>\n",
       "      <td>245000</td>\n",
       "      <td>[Casa o chalet independiente, 2 plantas, 249 m...</td>\n",
       "      <td>[Piscina, Jardín, Consumo: \\n174 kWh/m² año, E...</td>\n",
       "      <td>NaN</td>\n",
       "      <td>3</td>\n",
       "      <td>1995.0</td>\n",
       "      <td>1</td>\n",
       "      <td>este</td>\n",
       "      <td>...</td>\n",
       "      <td>3.0</td>\n",
       "      <td>249</td>\n",
       "      <td>Segunda mano/buen estado</td>\n",
       "      <td>0</td>\n",
       "      <td>1</td>\n",
       "      <td>0</td>\n",
       "      <td>0</td>\n",
       "      <td>0</td>\n",
       "      <td>1</td>\n",
       "      <td>0</td>\n",
       "    </tr>\n",
       "    <tr>\n",
       "      <th>4</th>\n",
       "      <td>Casa o chalet independiente en venta en aveni...</td>\n",
       "      <td>Sant Llorenç Savall</td>\n",
       "      <td>360000</td>\n",
       "      <td>[Casa o chalet independiente, 1 planta, 241 m²...</td>\n",
       "      <td>[Piscina, Jardín, Consumo: \\n99 kWh/m² año, Em...</td>\n",
       "      <td>NaN</td>\n",
       "      <td>5</td>\n",
       "      <td>1975.0</td>\n",
       "      <td>1</td>\n",
       "      <td>None</td>\n",
       "      <td>...</td>\n",
       "      <td>4.0</td>\n",
       "      <td>241</td>\n",
       "      <td>Segunda mano/buen estado</td>\n",
       "      <td>1</td>\n",
       "      <td>1</td>\n",
       "      <td>1</td>\n",
       "      <td>0</td>\n",
       "      <td>0</td>\n",
       "      <td>1</td>\n",
       "      <td>0</td>\n",
       "    </tr>\n",
       "    <tr>\n",
       "      <th>...</th>\n",
       "      <td>...</td>\n",
       "      <td>...</td>\n",
       "      <td>...</td>\n",
       "      <td>...</td>\n",
       "      <td>...</td>\n",
       "      <td>...</td>\n",
       "      <td>...</td>\n",
       "      <td>...</td>\n",
       "      <td>...</td>\n",
       "      <td>...</td>\n",
       "      <td>...</td>\n",
       "      <td>...</td>\n",
       "      <td>...</td>\n",
       "      <td>...</td>\n",
       "      <td>...</td>\n",
       "      <td>...</td>\n",
       "      <td>...</td>\n",
       "      <td>...</td>\n",
       "      <td>...</td>\n",
       "      <td>...</td>\n",
       "      <td>...</td>\n",
       "    </tr>\n",
       "    <tr>\n",
       "      <th>64</th>\n",
       "      <td>Casa de pueblo en venta en calle Barcelona, 9</td>\n",
       "      <td>Sant Llorenç Savall</td>\n",
       "      <td>260000</td>\n",
       "      <td>[Casa de pueblo, 3 plantas, 160 m² construidos...</td>\n",
       "      <td>[Consumo: \\n128,9 kWh/m² año, Emisiones: \\n28 ...</td>\n",
       "      <td>NaN</td>\n",
       "      <td>2</td>\n",
       "      <td>NaN</td>\n",
       "      <td>1</td>\n",
       "      <td>None</td>\n",
       "      <td>...</td>\n",
       "      <td>2.0</td>\n",
       "      <td>160</td>\n",
       "      <td>Segunda mano/buen estado</td>\n",
       "      <td>0</td>\n",
       "      <td>1</td>\n",
       "      <td>1</td>\n",
       "      <td>0</td>\n",
       "      <td>0</td>\n",
       "      <td>1</td>\n",
       "      <td>0</td>\n",
       "    </tr>\n",
       "    <tr>\n",
       "      <th>65</th>\n",
       "      <td>Finca rústica en venta en carretera de sant f...</td>\n",
       "      <td>Sant Llorenç Savall</td>\n",
       "      <td>400000</td>\n",
       "      <td>[Finca rústica, 1 planta, 400 m² construidos, ...</td>\n",
       "      <td>[En trámite]</td>\n",
       "      <td>NaN</td>\n",
       "      <td>3</td>\n",
       "      <td>NaN</td>\n",
       "      <td>0</td>\n",
       "      <td>None</td>\n",
       "      <td>...</td>\n",
       "      <td>5.0</td>\n",
       "      <td>400</td>\n",
       "      <td>Segunda mano/para reformar</td>\n",
       "      <td>0</td>\n",
       "      <td>1</td>\n",
       "      <td>0</td>\n",
       "      <td>0</td>\n",
       "      <td>0</td>\n",
       "      <td>0</td>\n",
       "      <td>0</td>\n",
       "    </tr>\n",
       "    <tr>\n",
       "      <th>66</th>\n",
       "      <td>Estudio en venta en Sant Llorenç Savall</td>\n",
       "      <td>Vallès Occidental</td>\n",
       "      <td>78000</td>\n",
       "      <td>[48 m² construidos, Sin habitación, 1 baño, Se...</td>\n",
       "      <td>[No indicado]</td>\n",
       "      <td>0.0</td>\n",
       "      <td>1</td>\n",
       "      <td>2007.0</td>\n",
       "      <td>0</td>\n",
       "      <td>None</td>\n",
       "      <td>...</td>\n",
       "      <td>NaN</td>\n",
       "      <td>48</td>\n",
       "      <td>Segunda mano/buen estado</td>\n",
       "      <td>0</td>\n",
       "      <td>0</td>\n",
       "      <td>0</td>\n",
       "      <td>0</td>\n",
       "      <td>0</td>\n",
       "      <td>1</td>\n",
       "      <td>0</td>\n",
       "    </tr>\n",
       "    <tr>\n",
       "      <th>67</th>\n",
       "      <td>Casa o chalet en venta en carretera de Monistrol</td>\n",
       "      <td>Sant Llorenç Savall</td>\n",
       "      <td>176300</td>\n",
       "      <td>[Casa o chalet, 329 m² construidos, 229 m² úti...</td>\n",
       "      <td>[Consumo:]</td>\n",
       "      <td>NaN</td>\n",
       "      <td>2</td>\n",
       "      <td>1973.0</td>\n",
       "      <td>0</td>\n",
       "      <td>None</td>\n",
       "      <td>...</td>\n",
       "      <td>4.0</td>\n",
       "      <td>329</td>\n",
       "      <td>Segunda mano/buen estado</td>\n",
       "      <td>0</td>\n",
       "      <td>0</td>\n",
       "      <td>0</td>\n",
       "      <td>0</td>\n",
       "      <td>0</td>\n",
       "      <td>0</td>\n",
       "      <td>0</td>\n",
       "    </tr>\n",
       "    <tr>\n",
       "      <th>68</th>\n",
       "      <td>Casa o chalet en venta en calle del Romani</td>\n",
       "      <td>Sant Llorenç Savall</td>\n",
       "      <td>181100</td>\n",
       "      <td>[Casa o chalet, 63 m² construidos, 2 habitacio...</td>\n",
       "      <td>[No indicado]</td>\n",
       "      <td>NaN</td>\n",
       "      <td>1</td>\n",
       "      <td>1983.0</td>\n",
       "      <td>0</td>\n",
       "      <td>None</td>\n",
       "      <td>...</td>\n",
       "      <td>2.0</td>\n",
       "      <td>63</td>\n",
       "      <td>Segunda mano/buen estado</td>\n",
       "      <td>1</td>\n",
       "      <td>0</td>\n",
       "      <td>0</td>\n",
       "      <td>0</td>\n",
       "      <td>0</td>\n",
       "      <td>0</td>\n",
       "      <td>0</td>\n",
       "    </tr>\n",
       "  </tbody>\n",
       "</table>\n",
       "<p>69 rows × 21 columns</p>\n",
       "</div>"
      ],
      "text/plain": [
       "                                               Titulo         Localización  \\\n",
       "0            Chalet pareado en venta en Josep Albages  Sant Llorenç Savall   \n",
       "1            Chalet pareado en venta en Josep Albages  Sant Llorenç Savall   \n",
       "2                Casa de pueblo en venta en calle Nou  Sant Llorenç Savall   \n",
       "3       Casa o chalet independiente en venta en Avets  Sant Llorenç Savall   \n",
       "4    Casa o chalet independiente en venta en aveni...  Sant Llorenç Savall   \n",
       "..                                                ...                  ...   \n",
       "64      Casa de pueblo en venta en calle Barcelona, 9  Sant Llorenç Savall   \n",
       "65   Finca rústica en venta en carretera de sant f...  Sant Llorenç Savall   \n",
       "66            Estudio en venta en Sant Llorenç Savall    Vallès Occidental   \n",
       "67   Casa o chalet en venta en carretera de Monistrol  Sant Llorenç Savall   \n",
       "68         Casa o chalet en venta en calle del Romani  Sant Llorenç Savall   \n",
       "\n",
       "    precio                            caracteristicas básicas  \\\n",
       "0   269000  [Chalet pareado, 3 plantas, 254 m² construidos...   \n",
       "1   269000  [Chalet pareado, 3 plantas, 254 m² construidos...   \n",
       "2    92000  [Casa de pueblo, 4 plantas, 241 m² construidos...   \n",
       "3   245000  [Casa o chalet independiente, 2 plantas, 249 m...   \n",
       "4   360000  [Casa o chalet independiente, 1 planta, 241 m²...   \n",
       "..     ...                                                ...   \n",
       "64  260000  [Casa de pueblo, 3 plantas, 160 m² construidos...   \n",
       "65  400000  [Finca rústica, 1 planta, 400 m² construidos, ...   \n",
       "66   78000  [48 m² construidos, Sin habitación, 1 baño, Se...   \n",
       "67  176300  [Casa o chalet, 329 m² construidos, 229 m² úti...   \n",
       "68  181100  [Casa o chalet, 63 m² construidos, 2 habitacio...   \n",
       "\n",
       "                                          Equipamento  ascensor  baños  \\\n",
       "0   [Jardín, Consumo: \\n174 kWh/m² año, Emisiones:...       NaN      4   \n",
       "1   [Jardín, Consumo: \\n174 kWh/m² año, Emisiones:...       NaN      4   \n",
       "2   [Consumo: \\n208 kWh/m² año, Emisiones: \\n43 kg...       NaN      1   \n",
       "3   [Piscina, Jardín, Consumo: \\n174 kWh/m² año, E...       NaN      3   \n",
       "4   [Piscina, Jardín, Consumo: \\n99 kWh/m² año, Em...       NaN      5   \n",
       "..                                                ...       ...    ...   \n",
       "64  [Consumo: \\n128,9 kWh/m² año, Emisiones: \\n28 ...       NaN      2   \n",
       "65                                       [En trámite]       NaN      3   \n",
       "66                                      [No indicado]       0.0      1   \n",
       "67                                         [Consumo:]       NaN      2   \n",
       "68                                      [No indicado]       NaN      1   \n",
       "\n",
       "       año  trastero orientación  ... habitaciones  metros reales  \\\n",
       "0   1995.0         1         sur  ...          5.0            254   \n",
       "1   1995.0         1         sur  ...          5.0            254   \n",
       "2      NaN         1        este  ...          4.0            241   \n",
       "3   1995.0         1        este  ...          3.0            249   \n",
       "4   1975.0         1        None  ...          4.0            241   \n",
       "..     ...       ...         ...  ...          ...            ...   \n",
       "64     NaN         1        None  ...          2.0            160   \n",
       "65     NaN         0        None  ...          5.0            400   \n",
       "66  2007.0         0        None  ...          NaN             48   \n",
       "67  1973.0         0        None  ...          4.0            329   \n",
       "68  1983.0         0        None  ...          2.0             63   \n",
       "\n",
       "                     condición armarios empotrados  terraza  balcón  jardín  \\\n",
       "0     Segunda mano/buen estado                   1        1       1       0   \n",
       "1     Segunda mano/buen estado                   1        1       1       0   \n",
       "2   Segunda mano/para reformar                   0        1       1       0   \n",
       "3     Segunda mano/buen estado                   0        1       0       0   \n",
       "4     Segunda mano/buen estado                   1        1       1       0   \n",
       "..                         ...                 ...      ...     ...     ...   \n",
       "64    Segunda mano/buen estado                   0        1       1       0   \n",
       "65  Segunda mano/para reformar                   0        1       0       0   \n",
       "66    Segunda mano/buen estado                   0        0       0       0   \n",
       "67    Segunda mano/buen estado                   0        0       0       0   \n",
       "68    Segunda mano/buen estado                   1        0       0       0   \n",
       "\n",
       "    garaje  calefacción  aire acondicionado  \n",
       "0        1            1                   0  \n",
       "1        1            1                   0  \n",
       "2        0            1                   0  \n",
       "3        0            1                   0  \n",
       "4        0            1                   0  \n",
       "..     ...          ...                 ...  \n",
       "64       0            1                   0  \n",
       "65       0            0                   0  \n",
       "66       0            1                   0  \n",
       "67       0            0                   0  \n",
       "68       0            0                   0  \n",
       "\n",
       "[69 rows x 21 columns]"
      ]
     },
     "execution_count": 164,
     "metadata": {},
     "output_type": "execute_result"
    }
   ],
   "source": [
    "df_casas_1"
   ]
  },
  {
   "cell_type": "code",
   "execution_count": 165,
   "metadata": {},
   "outputs": [],
   "source": [
    "df_casas_1.drop(columns = [\"caracteristicas básicas\", \"Equipamento\"], inplace = True)"
   ]
  },
  {
   "cell_type": "code",
   "execution_count": 166,
   "metadata": {},
   "outputs": [
    {
     "data": {
      "text/html": [
       "<div>\n",
       "<style scoped>\n",
       "    .dataframe tbody tr th:only-of-type {\n",
       "        vertical-align: middle;\n",
       "    }\n",
       "\n",
       "    .dataframe tbody tr th {\n",
       "        vertical-align: top;\n",
       "    }\n",
       "\n",
       "    .dataframe thead th {\n",
       "        text-align: right;\n",
       "    }\n",
       "</style>\n",
       "<table border=\"1\" class=\"dataframe\">\n",
       "  <thead>\n",
       "    <tr style=\"text-align: right;\">\n",
       "      <th></th>\n",
       "      <th>Titulo</th>\n",
       "      <th>Localización</th>\n",
       "      <th>precio</th>\n",
       "      <th>ascensor</th>\n",
       "      <th>baños</th>\n",
       "      <th>año</th>\n",
       "      <th>trastero</th>\n",
       "      <th>orientación</th>\n",
       "      <th>piso</th>\n",
       "      <th>habitaciones</th>\n",
       "      <th>metros reales</th>\n",
       "      <th>condición</th>\n",
       "      <th>armarios empotrados</th>\n",
       "      <th>terraza</th>\n",
       "      <th>balcón</th>\n",
       "      <th>jardín</th>\n",
       "      <th>garaje</th>\n",
       "      <th>calefacción</th>\n",
       "      <th>aire acondicionado</th>\n",
       "    </tr>\n",
       "  </thead>\n",
       "  <tbody>\n",
       "    <tr>\n",
       "      <th>0</th>\n",
       "      <td>Chalet pareado en venta en Josep Albages</td>\n",
       "      <td>Sant Llorenç Savall</td>\n",
       "      <td>269000</td>\n",
       "      <td>NaN</td>\n",
       "      <td>4</td>\n",
       "      <td>1995.0</td>\n",
       "      <td>1</td>\n",
       "      <td>sur</td>\n",
       "      <td>3 plantas</td>\n",
       "      <td>5.0</td>\n",
       "      <td>254</td>\n",
       "      <td>Segunda mano/buen estado</td>\n",
       "      <td>1</td>\n",
       "      <td>1</td>\n",
       "      <td>1</td>\n",
       "      <td>0</td>\n",
       "      <td>1</td>\n",
       "      <td>1</td>\n",
       "      <td>0</td>\n",
       "    </tr>\n",
       "    <tr>\n",
       "      <th>1</th>\n",
       "      <td>Chalet pareado en venta en Josep Albages</td>\n",
       "      <td>Sant Llorenç Savall</td>\n",
       "      <td>269000</td>\n",
       "      <td>NaN</td>\n",
       "      <td>4</td>\n",
       "      <td>1995.0</td>\n",
       "      <td>1</td>\n",
       "      <td>sur</td>\n",
       "      <td>3 plantas</td>\n",
       "      <td>5.0</td>\n",
       "      <td>254</td>\n",
       "      <td>Segunda mano/buen estado</td>\n",
       "      <td>1</td>\n",
       "      <td>1</td>\n",
       "      <td>1</td>\n",
       "      <td>0</td>\n",
       "      <td>1</td>\n",
       "      <td>1</td>\n",
       "      <td>0</td>\n",
       "    </tr>\n",
       "    <tr>\n",
       "      <th>2</th>\n",
       "      <td>Casa de pueblo en venta en calle Nou</td>\n",
       "      <td>Sant Llorenç Savall</td>\n",
       "      <td>92000</td>\n",
       "      <td>NaN</td>\n",
       "      <td>1</td>\n",
       "      <td>NaN</td>\n",
       "      <td>1</td>\n",
       "      <td>este</td>\n",
       "      <td>4 plantas</td>\n",
       "      <td>4.0</td>\n",
       "      <td>241</td>\n",
       "      <td>Segunda mano/para reformar</td>\n",
       "      <td>0</td>\n",
       "      <td>1</td>\n",
       "      <td>1</td>\n",
       "      <td>0</td>\n",
       "      <td>0</td>\n",
       "      <td>1</td>\n",
       "      <td>0</td>\n",
       "    </tr>\n",
       "    <tr>\n",
       "      <th>3</th>\n",
       "      <td>Casa o chalet independiente en venta en Avets</td>\n",
       "      <td>Sant Llorenç Savall</td>\n",
       "      <td>245000</td>\n",
       "      <td>NaN</td>\n",
       "      <td>3</td>\n",
       "      <td>1995.0</td>\n",
       "      <td>1</td>\n",
       "      <td>este</td>\n",
       "      <td>2 plantas</td>\n",
       "      <td>3.0</td>\n",
       "      <td>249</td>\n",
       "      <td>Segunda mano/buen estado</td>\n",
       "      <td>0</td>\n",
       "      <td>1</td>\n",
       "      <td>0</td>\n",
       "      <td>0</td>\n",
       "      <td>0</td>\n",
       "      <td>1</td>\n",
       "      <td>0</td>\n",
       "    </tr>\n",
       "    <tr>\n",
       "      <th>4</th>\n",
       "      <td>Casa o chalet independiente en venta en aveni...</td>\n",
       "      <td>Sant Llorenç Savall</td>\n",
       "      <td>360000</td>\n",
       "      <td>NaN</td>\n",
       "      <td>5</td>\n",
       "      <td>1975.0</td>\n",
       "      <td>1</td>\n",
       "      <td>None</td>\n",
       "      <td>1 planta</td>\n",
       "      <td>4.0</td>\n",
       "      <td>241</td>\n",
       "      <td>Segunda mano/buen estado</td>\n",
       "      <td>1</td>\n",
       "      <td>1</td>\n",
       "      <td>1</td>\n",
       "      <td>0</td>\n",
       "      <td>0</td>\n",
       "      <td>1</td>\n",
       "      <td>0</td>\n",
       "    </tr>\n",
       "    <tr>\n",
       "      <th>...</th>\n",
       "      <td>...</td>\n",
       "      <td>...</td>\n",
       "      <td>...</td>\n",
       "      <td>...</td>\n",
       "      <td>...</td>\n",
       "      <td>...</td>\n",
       "      <td>...</td>\n",
       "      <td>...</td>\n",
       "      <td>...</td>\n",
       "      <td>...</td>\n",
       "      <td>...</td>\n",
       "      <td>...</td>\n",
       "      <td>...</td>\n",
       "      <td>...</td>\n",
       "      <td>...</td>\n",
       "      <td>...</td>\n",
       "      <td>...</td>\n",
       "      <td>...</td>\n",
       "      <td>...</td>\n",
       "    </tr>\n",
       "    <tr>\n",
       "      <th>64</th>\n",
       "      <td>Casa de pueblo en venta en calle Barcelona, 9</td>\n",
       "      <td>Sant Llorenç Savall</td>\n",
       "      <td>260000</td>\n",
       "      <td>NaN</td>\n",
       "      <td>2</td>\n",
       "      <td>NaN</td>\n",
       "      <td>1</td>\n",
       "      <td>None</td>\n",
       "      <td>3 plantas</td>\n",
       "      <td>2.0</td>\n",
       "      <td>160</td>\n",
       "      <td>Segunda mano/buen estado</td>\n",
       "      <td>0</td>\n",
       "      <td>1</td>\n",
       "      <td>1</td>\n",
       "      <td>0</td>\n",
       "      <td>0</td>\n",
       "      <td>1</td>\n",
       "      <td>0</td>\n",
       "    </tr>\n",
       "    <tr>\n",
       "      <th>65</th>\n",
       "      <td>Finca rústica en venta en carretera de sant f...</td>\n",
       "      <td>Sant Llorenç Savall</td>\n",
       "      <td>400000</td>\n",
       "      <td>NaN</td>\n",
       "      <td>3</td>\n",
       "      <td>NaN</td>\n",
       "      <td>0</td>\n",
       "      <td>None</td>\n",
       "      <td>1 planta</td>\n",
       "      <td>5.0</td>\n",
       "      <td>400</td>\n",
       "      <td>Segunda mano/para reformar</td>\n",
       "      <td>0</td>\n",
       "      <td>1</td>\n",
       "      <td>0</td>\n",
       "      <td>0</td>\n",
       "      <td>0</td>\n",
       "      <td>0</td>\n",
       "      <td>0</td>\n",
       "    </tr>\n",
       "    <tr>\n",
       "      <th>66</th>\n",
       "      <td>Estudio en venta en Sant Llorenç Savall</td>\n",
       "      <td>Vallès Occidental</td>\n",
       "      <td>78000</td>\n",
       "      <td>0.0</td>\n",
       "      <td>1</td>\n",
       "      <td>2007.0</td>\n",
       "      <td>0</td>\n",
       "      <td>None</td>\n",
       "      <td>Bajo exterior</td>\n",
       "      <td>NaN</td>\n",
       "      <td>48</td>\n",
       "      <td>Segunda mano/buen estado</td>\n",
       "      <td>0</td>\n",
       "      <td>0</td>\n",
       "      <td>0</td>\n",
       "      <td>0</td>\n",
       "      <td>0</td>\n",
       "      <td>1</td>\n",
       "      <td>0</td>\n",
       "    </tr>\n",
       "    <tr>\n",
       "      <th>67</th>\n",
       "      <td>Casa o chalet en venta en carretera de Monistrol</td>\n",
       "      <td>Sant Llorenç Savall</td>\n",
       "      <td>176300</td>\n",
       "      <td>NaN</td>\n",
       "      <td>2</td>\n",
       "      <td>1973.0</td>\n",
       "      <td>0</td>\n",
       "      <td>None</td>\n",
       "      <td>None</td>\n",
       "      <td>4.0</td>\n",
       "      <td>329</td>\n",
       "      <td>Segunda mano/buen estado</td>\n",
       "      <td>0</td>\n",
       "      <td>0</td>\n",
       "      <td>0</td>\n",
       "      <td>0</td>\n",
       "      <td>0</td>\n",
       "      <td>0</td>\n",
       "      <td>0</td>\n",
       "    </tr>\n",
       "    <tr>\n",
       "      <th>68</th>\n",
       "      <td>Casa o chalet en venta en calle del Romani</td>\n",
       "      <td>Sant Llorenç Savall</td>\n",
       "      <td>181100</td>\n",
       "      <td>NaN</td>\n",
       "      <td>1</td>\n",
       "      <td>1983.0</td>\n",
       "      <td>0</td>\n",
       "      <td>None</td>\n",
       "      <td>None</td>\n",
       "      <td>2.0</td>\n",
       "      <td>63</td>\n",
       "      <td>Segunda mano/buen estado</td>\n",
       "      <td>1</td>\n",
       "      <td>0</td>\n",
       "      <td>0</td>\n",
       "      <td>0</td>\n",
       "      <td>0</td>\n",
       "      <td>0</td>\n",
       "      <td>0</td>\n",
       "    </tr>\n",
       "  </tbody>\n",
       "</table>\n",
       "<p>69 rows × 19 columns</p>\n",
       "</div>"
      ],
      "text/plain": [
       "                                               Titulo         Localización  \\\n",
       "0            Chalet pareado en venta en Josep Albages  Sant Llorenç Savall   \n",
       "1            Chalet pareado en venta en Josep Albages  Sant Llorenç Savall   \n",
       "2                Casa de pueblo en venta en calle Nou  Sant Llorenç Savall   \n",
       "3       Casa o chalet independiente en venta en Avets  Sant Llorenç Savall   \n",
       "4    Casa o chalet independiente en venta en aveni...  Sant Llorenç Savall   \n",
       "..                                                ...                  ...   \n",
       "64      Casa de pueblo en venta en calle Barcelona, 9  Sant Llorenç Savall   \n",
       "65   Finca rústica en venta en carretera de sant f...  Sant Llorenç Savall   \n",
       "66            Estudio en venta en Sant Llorenç Savall    Vallès Occidental   \n",
       "67   Casa o chalet en venta en carretera de Monistrol  Sant Llorenç Savall   \n",
       "68         Casa o chalet en venta en calle del Romani  Sant Llorenç Savall   \n",
       "\n",
       "    precio  ascensor  baños     año  trastero orientación           piso  \\\n",
       "0   269000       NaN      4  1995.0         1         sur      3 plantas   \n",
       "1   269000       NaN      4  1995.0         1         sur      3 plantas   \n",
       "2    92000       NaN      1     NaN         1        este      4 plantas   \n",
       "3   245000       NaN      3  1995.0         1        este      2 plantas   \n",
       "4   360000       NaN      5  1975.0         1        None       1 planta   \n",
       "..     ...       ...    ...     ...       ...         ...            ...   \n",
       "64  260000       NaN      2     NaN         1        None      3 plantas   \n",
       "65  400000       NaN      3     NaN         0        None       1 planta   \n",
       "66   78000       0.0      1  2007.0         0        None  Bajo exterior   \n",
       "67  176300       NaN      2  1973.0         0        None           None   \n",
       "68  181100       NaN      1  1983.0         0        None           None   \n",
       "\n",
       "    habitaciones  metros reales                   condición  \\\n",
       "0            5.0            254    Segunda mano/buen estado   \n",
       "1            5.0            254    Segunda mano/buen estado   \n",
       "2            4.0            241  Segunda mano/para reformar   \n",
       "3            3.0            249    Segunda mano/buen estado   \n",
       "4            4.0            241    Segunda mano/buen estado   \n",
       "..           ...            ...                         ...   \n",
       "64           2.0            160    Segunda mano/buen estado   \n",
       "65           5.0            400  Segunda mano/para reformar   \n",
       "66           NaN             48    Segunda mano/buen estado   \n",
       "67           4.0            329    Segunda mano/buen estado   \n",
       "68           2.0             63    Segunda mano/buen estado   \n",
       "\n",
       "    armarios empotrados  terraza  balcón  jardín  garaje  calefacción  \\\n",
       "0                     1        1       1       0       1            1   \n",
       "1                     1        1       1       0       1            1   \n",
       "2                     0        1       1       0       0            1   \n",
       "3                     0        1       0       0       0            1   \n",
       "4                     1        1       1       0       0            1   \n",
       "..                  ...      ...     ...     ...     ...          ...   \n",
       "64                    0        1       1       0       0            1   \n",
       "65                    0        1       0       0       0            0   \n",
       "66                    0        0       0       0       0            1   \n",
       "67                    0        0       0       0       0            0   \n",
       "68                    1        0       0       0       0            0   \n",
       "\n",
       "    aire acondicionado  \n",
       "0                    0  \n",
       "1                    0  \n",
       "2                    0  \n",
       "3                    0  \n",
       "4                    0  \n",
       "..                 ...  \n",
       "64                   0  \n",
       "65                   0  \n",
       "66                   0  \n",
       "67                   0  \n",
       "68                   0  \n",
       "\n",
       "[69 rows x 19 columns]"
      ]
     },
     "execution_count": 166,
     "metadata": {},
     "output_type": "execute_result"
    }
   ],
   "source": [
    "df_casas_1"
   ]
  }
 ],
 "metadata": {
  "kernelspec": {
   "display_name": "base",
   "language": "python",
   "name": "python3"
  },
  "language_info": {
   "codemirror_mode": {
    "name": "ipython",
    "version": 3
   },
   "file_extension": ".py",
   "mimetype": "text/x-python",
   "name": "python",
   "nbconvert_exporter": "python",
   "pygments_lexer": "ipython3",
   "version": "3.11.5"
  }
 },
 "nbformat": 4,
 "nbformat_minor": 2
}
